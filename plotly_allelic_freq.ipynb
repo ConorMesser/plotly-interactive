{
 "cells": [
  {
   "cell_type": "code",
   "execution_count": 1,
   "metadata": {},
   "outputs": [
    {
     "name": "stderr",
     "output_type": "stream",
     "text": [
      "/Users/cmesser/PycharmProjects/plotly-interactive/venv/lib/python3.7/site-packages/pandas/compat/__init__.py:120: UserWarning: Could not import the lzma module. Your installed Python is incomplete. Attempting to use lzma compression will result in a RuntimeError.\n",
      "  warnings.warn(msg)\n"
     ]
    }
   ],
   "source": [
    "import numpy as np\n",
    "import plotly.graph_objs as go\n",
    "from ipywidgets import widgets\n",
    "from static_allelic_freq import get_static_plot\n",
    "from filenames_helper.collect_filenames import collect_filenames\n"
   ]
  },
  {
   "cell_type": "code",
   "execution_count": 2,
   "metadata": {
    "pycharm": {
     "name": "#%%\n"
    }
   },
   "outputs": [],
   "source": [
    "# define column_names\n",
    "column_names = dict(sample_barcode='Tumor_Sample_Barcode',\n",
    "                    hugo='Hugo_Symbol',\n",
    "                    tumor_freq='tumor_f',\n",
    "                    gnomad_freq='gnomADg_AF',\n",
    "                    variant_class='Variant_Classification')\n",
    "purity_column = 'wxs_purity'\n",
    "\n",
    "# define parameters\n",
    "jitter = 0.3\n",
    "line_length = 0.8\n",
    "filter_disc_num = 20\n",
    "\n",
    "# define workspace name\n",
    "workspace = 'broad-firecloud-ibmwatson/Getz_Ebert_IBM_13-583_Exomes_Analysis'"
   ]
  },
  {
   "cell_type": "code",
   "execution_count": 3,
   "metadata": {
    "pycharm": {
     "name": "#%%\n"
    }
   },
   "outputs": [],
   "source": [
    "## Get list of maf filenames"
   ]
  },
  {
   "cell_type": "code",
   "execution_count": 8,
   "metadata": {
    "pycharm": {
     "name": "#%%\n"
    }
   },
   "outputs": [],
   "source": [
    "### From Terra\n",
    "maf_list = collect_filenames(workspace=workspace, set_type='pair',\n",
    "                             set_name='group_102',\n",
    "                             column_name='mutation_validator_validated_maf')"
   ]
  },
  {
   "cell_type": "code",
   "execution_count": 9,
   "metadata": {
    "pycharm": {
     "name": "#%%\n"
    }
   },
   "outputs": [],
   "source": [
    "### Or From File\n",
    "# Pull filenames from a text file\n",
    "# Can be useful to specify a mix of local, downloaded mafs and urls hosted in a bucket\n",
    "# Give each filename on its own line, or separate them by commas or tabs\n",
    "\n",
    "# maf_list = collect_filenames(filepath='/Users/me/my_documents/my_directory/my_file.txt')"
   ]
  },
  {
   "cell_type": "code",
   "execution_count": 10,
   "metadata": {
    "pycharm": {
     "name": "#%%\n"
    }
   },
   "outputs": [
    {
     "name": "stderr",
     "output_type": "stream",
     "text": [
      "/Users/cmesser/PycharmProjects/plotly-interactive/venv/lib/python3.7/site-packages/IPython/core/interactiveshell.py:3337: DtypeWarning:\n",
      "\n",
      "Columns (14,32,35,36,37,40,41,45,46,48,49,51,53,55,58,62,63,64,66,67,68,69,70,71,72,75,79,82,85,87,88,91,92,93,96,98,99,100,102,103,104,105,106,113,114,115,116,118,120,122,124,125,130,133,134,138,140,141,144,147,149,150,151,153,159,160,161,164,165,168,171,173,175,176,178,182,184,186,192,194,198,199,201,202,205,206,209,210,211,212,214,215,218,224,226,227,229,230,232,233,234,235,239,245,248,249,250,252,256,259,260,266,267,268,270,272,276,278,282,285,288,289,290,293,297,300,302,303,307,309,310,314,317,321,322,326,329,330,334,336,337,340,341,342,343,345,349,350,351,355,357,358,359,360,361,362,366,369,371,373,374,399,403,411,412,413,415,429,441,451,455,456,458,460,461,463,464,468,470,471,472,473,474,475,476,480,481,482,484,487,489,490,492,493,494,496,498,499,500,501,502,504,506,509,542,543) have mixed types.Specify dtype option on import or set low_memory=False.\n",
      "\n"
     ]
    }
   ],
   "source": [
    "# get basic static plot\n",
    "fig, samples, gnomad_min, gnomad_max = get_static_plot(maf_list, workspace, column_names, purity_column,\n",
    "                                                       jitter=jitter, line_length=line_length)"
   ]
  },
  {
   "cell_type": "markdown",
   "metadata": {
    "pycharm": {
     "name": "#%% md\n"
    }
   },
   "source": [
    "# Add Widgets"
   ]
  },
  {
   "cell_type": "code",
   "execution_count": 11,
   "metadata": {
    "pycharm": {
     "name": "#%%\n"
    }
   },
   "outputs": [
    {
     "data": {
      "application/vnd.jupyter.widget-view+json": {
       "model_id": "11acb7b8af8c457195106d26680004bd",
       "version_major": 2,
       "version_minor": 0
      },
      "text/plain": [
       "VBox(children=(SelectMultiple(description='Mutation Types:  ', index=(0, 1, 2, 3, 4, 5, 6, 7, 8, 9, 10, 11, 12…"
      ]
     },
     "metadata": {},
     "output_type": "display_data"
    }
   ],
   "source": [
    "gnomAD_slider = widgets.FloatSlider(\n",
    "    value=0,\n",
    "    min=0,\n",
    "    max=max(samples[column_names.get('gnomad_freq')]),\n",
    "    step=max(samples[column_names.get('gnomad_freq')]) / filter_disc_num,\n",
    "    disabled=False,\n",
    "    description='GnomAD Frequency Filter: ',\n",
    "    readout_format='.5f'\n",
    ")\n",
    "\n",
    "gnomAD_nan = widgets.Checkbox(\n",
    "    value=True,\n",
    "    description='Allow NaN gnomAD points',\n",
    "    disabled=False,\n",
    "    indent=False\n",
    ")\n",
    "\n",
    "all_mutations = samples[column_names.get('variant_class')].unique().tolist()\n",
    "mutation_select = widgets.SelectMultiple(\n",
    "    options=all_mutations,\n",
    "    value=all_mutations,\n",
    "    description='Mutation Types:  ',\n",
    "    disabled=False\n",
    ")\n",
    "\n",
    "ipython_fig = go.FigureWidget(fig)\n",
    "\n",
    "df_w_filter = samples.copy()\n",
    "\n",
    "def response(change):\n",
    "    filter_list = [m in mutation_select.value and\n",
    "                   ((g >= gnomAD_slider.value and not np.isnan(g))\n",
    "                   or (np.isnan(g) and gnomAD_nan.value))\n",
    "                   for m, g in zip(samples[column_names.get('variant_class')],\n",
    "                                   samples[column_names.get('gnomad_freq')])]\n",
    "    df_w_filter['filter'] = filter_list\n",
    "    updated_sum_data = df_w_filter.groupby(level=[0], sort=False).sum()['filter'].values.flatten()\n",
    "\n",
    "    temp_df = samples[filter_list]\n",
    "    y = temp_df[column_names.get('tumor_freq')]\n",
    "    x = temp_df['x_jitter']\n",
    "    t_count = temp_df['t_ref_count'].values + temp_df['t_alt_count'].values\n",
    "    with ipython_fig.batch_update():\n",
    "        ipython_fig.data[0].x = x\n",
    "        ipython_fig.data[0].y = y\n",
    "        ipython_fig.data[0].marker['color'] = temp_df[column_names.get('gnomad_freq')]\n",
    "        ipython_fig.data[0].marker['cmin'] = gnomad_min\n",
    "        ipython_fig.data[0].marker['cmax'] = gnomad_max\n",
    "        ipython_fig.data[0].customdata = np.stack((temp_df[column_names.get('hugo')].tolist(),\n",
    "                                                   temp_df['Protein_Change'].tolist(),\n",
    "                                                   t_count), axis=-1)\n",
    "        ipython_fig.data[1].z = updated_sum_data\n",
    "        for x_val, this_sum in enumerate(updated_sum_data):\n",
    "            ipython_fig['layout']['annotations'][x_val].update(text=str(this_sum))\n",
    "\n",
    "mutation_select.observe(response, names=\"value\")\n",
    "gnomAD_slider.observe(response, names=\"value\")\n",
    "gnomAD_nan.observe(response, names=\"value\")\n",
    "\n",
    "widgets.VBox([mutation_select, ipython_fig, gnomAD_slider, gnomAD_nan])"
   ]
  },
  {
   "cell_type": "code",
   "execution_count": null,
   "metadata": {
    "pycharm": {
     "name": "#%%\n"
    }
   },
   "outputs": [],
   "source": []
  }
 ],
 "metadata": {
  "kernelspec": {
   "display_name": "Python 3",
   "language": "python",
   "name": "python3"
  },
  "language_info": {
   "codemirror_mode": {
    "name": "ipython",
    "version": 3
   },
   "file_extension": ".py",
   "mimetype": "text/x-python",
   "name": "python",
   "nbconvert_exporter": "python",
   "pygments_lexer": "ipython3",
   "version": "3.7.8"
  }
 },
 "nbformat": 4,
 "nbformat_minor": 1
}