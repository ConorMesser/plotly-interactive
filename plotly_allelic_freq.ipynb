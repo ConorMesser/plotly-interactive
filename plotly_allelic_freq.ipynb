{
 "cells": [
  {
   "cell_type": "code",
   "execution_count": 7,
   "metadata": {},
   "outputs": [],
   "source": [
    "import numpy as np\n",
    "import plotly.graph_objs as go\n",
    "from ipywidgets import widgets\n",
    "from static_allelic_freq import get_static_plot\n"
   ]
  },
  {
   "cell_type": "code",
   "execution_count": 8,
   "metadata": {
    "pycharm": {
     "name": "#%%\n"
    }
   },
   "outputs": [],
   "source": [
    "# get basic static plot\n",
    "fig, samples, gnomad_min, gnomad_max, column_names = get_static_plot()\n",
    "\n",
    "# parameters\n",
    "filter_disc_num = 20"
   ]
  },
  {
   "cell_type": "markdown",
   "source": [
    "# Add Widgets"
   ],
   "metadata": {
    "collapsed": false,
    "pycharm": {
     "name": "#%% md\n"
    }
   }
  },
  {
   "cell_type": "code",
   "execution_count": 9,
   "outputs": [
    {
     "data": {
      "text/plain": "VBox(children=(SelectMultiple(description='Mutation Types:  ', index=(0, 1, 2, 3, 4, 5, 6, 7, 8, 9, 10, 11, 12…",
      "application/vnd.jupyter.widget-view+json": {
       "version_major": 2,
       "version_minor": 0,
       "model_id": "c9b2a342d57b4a6995fd18c57bbbaccc"
      }
     },
     "metadata": {},
     "output_type": "display_data"
    }
   ],
   "source": [
    "gnomAD_slider = widgets.FloatSlider(\n",
    "    value=0,\n",
    "    min=0,\n",
    "    max=max(samples[column_names.get('gnomad_freq')]),\n",
    "    step=max(samples[column_names.get('gnomad_freq')]) / filter_disc_num,\n",
    "    disabled=False,\n",
    "    description='GnomAD Frequency Filter: ',\n",
    "    readout_format='.5f'\n",
    ")\n",
    "\n",
    "gnomAD_nan = widgets.Checkbox(\n",
    "    value=True,\n",
    "    description='Allow NaN gnomAD points',\n",
    "    disabled=False,\n",
    "    indent=False\n",
    ")\n",
    "\n",
    "all_mutations = samples[column_names.get('variant_class')].unique().tolist()\n",
    "mutation_select = widgets.SelectMultiple(\n",
    "    options=all_mutations,\n",
    "    value=all_mutations,\n",
    "    description='Mutation Types:  ',\n",
    "    disabled=False\n",
    ")\n",
    "\n",
    "ipython_fig = go.FigureWidget(fig)\n",
    "\n",
    "df_w_filter = samples.copy()\n",
    "\n",
    "def response(change):\n",
    "    filter_list = [m in mutation_select.value and\n",
    "                   ((g >= gnomAD_slider.value and not np.isnan(g))\n",
    "                   or (np.isnan(g) and gnomAD_nan.value))\n",
    "                   for m, g in zip(samples[column_names.get('variant_class')],\n",
    "                                   samples[column_names.get('gnomad_freq')])]\n",
    "    df_w_filter['filter'] = filter_list\n",
    "    updated_sum_data = df_w_filter.groupby(level=[0], sort=False).sum()['filter'].values.flatten()\n",
    "\n",
    "    temp_df = samples[filter_list]\n",
    "    y = temp_df[column_names.get('tumor_freq')]\n",
    "    x = temp_df['x_jitter']\n",
    "    t_count = temp_df['t_ref_count'].values + temp_df['t_alt_count'].values\n",
    "    with ipython_fig.batch_update():\n",
    "        ipython_fig.data[0].x = x\n",
    "        ipython_fig.data[0].y = y\n",
    "        ipython_fig.data[0].marker['color'] = temp_df[column_names.get('gnomad_freq')]\n",
    "        ipython_fig.data[0].marker['cmin'] = gnomad_min\n",
    "        ipython_fig.data[0].marker['cmax'] = gnomad_max\n",
    "        ipython_fig.data[0].customdata = np.stack((temp_df[column_names.get('hugo')].tolist(),\n",
    "                                                   temp_df['Protein_Change'].tolist(),\n",
    "                                                   t_count), axis=-1)\n",
    "        ipython_fig.data[1].z = updated_sum_data\n",
    "        for x_val, this_sum in enumerate(updated_sum_data):\n",
    "            ipython_fig['layout']['annotations'][x_val].update(text=str(this_sum))\n",
    "\n",
    "mutation_select.observe(response, names=\"value\")\n",
    "gnomAD_slider.observe(response, names=\"value\")\n",
    "gnomAD_nan.observe(response, names=\"value\")\n",
    "\n",
    "widgets.VBox([mutation_select, ipython_fig, gnomAD_slider, gnomAD_nan])"
   ],
   "metadata": {
    "collapsed": false,
    "pycharm": {
     "name": "#%%\n"
    }
   }
  },
  {
   "cell_type": "code",
   "execution_count": null,
   "outputs": [],
   "source": [],
   "metadata": {
    "collapsed": false,
    "pycharm": {
     "name": "#%%\n"
    }
   }
  }
 ],
 "metadata": {
  "kernelspec": {
   "display_name": "Python 3",
   "language": "python",
   "name": "python3"
  },
  "language_info": {
   "codemirror_mode": {
    "name": "ipython",
    "version": 3
   },
   "file_extension": ".py",
   "mimetype": "text/x-python",
   "name": "python",
   "nbconvert_exporter": "python",
   "pygments_lexer": "ipython3",
   "version": "3.7.8"
  }
 },
 "nbformat": 4,
 "nbformat_minor": 1
}