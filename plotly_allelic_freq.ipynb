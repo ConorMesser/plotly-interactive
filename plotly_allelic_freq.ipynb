{
 "cells": [
  {
   "cell_type": "code",
   "execution_count": 1,
   "metadata": {},
   "outputs": [
    {
     "name": "stderr",
     "output_type": "stream",
     "text": [
      "/Users/cmesser/PycharmProjects/plotly-interactive/venv/lib/python3.7/site-packages/pandas/compat/__init__.py:120: UserWarning: Could not import the lzma module. Your installed Python is incomplete. Attempting to use lzma compression will result in a RuntimeError.\n",
      "  warnings.warn(msg)\n"
     ]
    }
   ],
   "source": [
    "import numpy as np\n",
    "import plotly.graph_objs as go\n",
    "from ipywidgets import widgets\n",
    "from static_allelic_freq import get_static_plot\n",
    "from filenames_helper.collect_filenames import collect_filenames\n"
   ]
  },
  {
   "cell_type": "code",
   "execution_count": 2,
   "metadata": {
    "pycharm": {
     "name": "#%%\n"
    }
   },
   "outputs": [],
   "source": [
    "# define column_names\n",
    "\n",
    "# define workspace name\n",
    "workspace = 'broad-firecloud-ibmwatson/Getz_Ebert_IBM_13-583_Exomes_Analysis'"
   ]
  },
  {
   "cell_type": "code",
   "execution_count": 3,
   "metadata": {
    "pycharm": {
     "name": "#%%\n"
    }
   },
   "outputs": [],
   "source": [
    "## Get list of maf filenames"
   ]
  },
  {
   "cell_type": "code",
   "execution_count": 5,
   "metadata": {
    "pycharm": {
     "name": "#%%\n"
    }
   },
   "outputs": [
    {
     "ename": "KeyError",
     "evalue": "'mutation_validated_validator_maf'",
     "output_type": "error",
     "traceback": [
      "\u001B[0;31m---------------------------------------------------------------------------\u001B[0m",
      "\u001B[0;31mKeyError\u001B[0m                                  Traceback (most recent call last)",
      "\u001B[0;32m~/PycharmProjects/plotly-interactive/venv/lib/python3.7/site-packages/pandas/core/indexes/base.py\u001B[0m in \u001B[0;36mget_loc\u001B[0;34m(self, key, method, tolerance)\u001B[0m\n\u001B[1;32m   2894\u001B[0m             \u001B[0;32mtry\u001B[0m\u001B[0;34m:\u001B[0m\u001B[0;34m\u001B[0m\u001B[0;34m\u001B[0m\u001B[0m\n\u001B[0;32m-> 2895\u001B[0;31m                 \u001B[0;32mreturn\u001B[0m \u001B[0mself\u001B[0m\u001B[0;34m.\u001B[0m\u001B[0m_engine\u001B[0m\u001B[0;34m.\u001B[0m\u001B[0mget_loc\u001B[0m\u001B[0;34m(\u001B[0m\u001B[0mcasted_key\u001B[0m\u001B[0;34m)\u001B[0m\u001B[0;34m\u001B[0m\u001B[0;34m\u001B[0m\u001B[0m\n\u001B[0m\u001B[1;32m   2896\u001B[0m             \u001B[0;32mexcept\u001B[0m \u001B[0mKeyError\u001B[0m \u001B[0;32mas\u001B[0m \u001B[0merr\u001B[0m\u001B[0;34m:\u001B[0m\u001B[0;34m\u001B[0m\u001B[0;34m\u001B[0m\u001B[0m\n",
      "\u001B[0;32mpandas/_libs/index.pyx\u001B[0m in \u001B[0;36mpandas._libs.index.IndexEngine.get_loc\u001B[0;34m()\u001B[0m\n",
      "\u001B[0;32mpandas/_libs/index.pyx\u001B[0m in \u001B[0;36mpandas._libs.index.IndexEngine.get_loc\u001B[0;34m()\u001B[0m\n",
      "\u001B[0;32mpandas/_libs/hashtable_class_helper.pxi\u001B[0m in \u001B[0;36mpandas._libs.hashtable.PyObjectHashTable.get_item\u001B[0;34m()\u001B[0m\n",
      "\u001B[0;32mpandas/_libs/hashtable_class_helper.pxi\u001B[0m in \u001B[0;36mpandas._libs.hashtable.PyObjectHashTable.get_item\u001B[0;34m()\u001B[0m\n",
      "\u001B[0;31mKeyError\u001B[0m: 'mutation_validated_validator_maf'",
      "\nThe above exception was the direct cause of the following exception:\n",
      "\u001B[0;31mKeyError\u001B[0m                                  Traceback (most recent call last)",
      "\u001B[0;32m<ipython-input-5-d2971197f731>\u001B[0m in \u001B[0;36m<module>\u001B[0;34m\u001B[0m\n\u001B[1;32m      2\u001B[0m maf_list = collect_filenames(workspace=workspace, set_type='pair',\n\u001B[1;32m      3\u001B[0m                              \u001B[0mset_name\u001B[0m\u001B[0;34m=\u001B[0m\u001B[0;34m'all_samples_except_MGH_484718'\u001B[0m\u001B[0;34m,\u001B[0m\u001B[0;34m\u001B[0m\u001B[0;34m\u001B[0m\u001B[0m\n\u001B[0;32m----> 4\u001B[0;31m                              column_name='mutation_validated_validator_maf')\n\u001B[0m",
      "\u001B[0;32m~/PycharmProjects/plotly-interactive/filenames_helper/collect_filenames.py\u001B[0m in \u001B[0;36mcollect_filenames\u001B[0;34m(filepath, directory, workspace, set_type, set_name, column_name)\u001B[0m\n\u001B[1;32m     37\u001B[0m                 \u001B[0mfilename_list\u001B[0m\u001B[0;34m.\u001B[0m\u001B[0mappend\u001B[0m\u001B[0;34m(\u001B[0m\u001B[0mfull_path\u001B[0m\u001B[0;34m)\u001B[0m\u001B[0;34m\u001B[0m\u001B[0;34m\u001B[0m\u001B[0m\n\u001B[1;32m     38\u001B[0m     \u001B[0;32melif\u001B[0m \u001B[0mworkspace\u001B[0m\u001B[0;34m:\u001B[0m\u001B[0;34m\u001B[0m\u001B[0;34m\u001B[0m\u001B[0m\n\u001B[0;32m---> 39\u001B[0;31m         \u001B[0mfinal_set\u001B[0m \u001B[0;34m=\u001B[0m \u001B[0mdf_from_workspace_set\u001B[0m\u001B[0;34m(\u001B[0m\u001B[0mworkspace\u001B[0m\u001B[0;34m,\u001B[0m \u001B[0mset_type\u001B[0m\u001B[0;34m,\u001B[0m \u001B[0mset_name\u001B[0m\u001B[0;34m,\u001B[0m \u001B[0mcolumn_name\u001B[0m\u001B[0;34m)\u001B[0m\u001B[0;34m\u001B[0m\u001B[0;34m\u001B[0m\u001B[0m\n\u001B[0m\u001B[1;32m     40\u001B[0m         \u001B[0mfilename_list\u001B[0m \u001B[0;34m=\u001B[0m \u001B[0mfinal_set\u001B[0m\u001B[0;34m[\u001B[0m\u001B[0mcolumn_name\u001B[0m\u001B[0;34m]\u001B[0m\u001B[0;34m.\u001B[0m\u001B[0mtolist\u001B[0m\u001B[0;34m(\u001B[0m\u001B[0;34m)\u001B[0m\u001B[0;34m\u001B[0m\u001B[0;34m\u001B[0m\u001B[0m\n\u001B[1;32m     41\u001B[0m     \u001B[0;32melse\u001B[0m\u001B[0;34m:\u001B[0m\u001B[0;34m\u001B[0m\u001B[0;34m\u001B[0m\u001B[0m\n",
      "\u001B[0;32m~/PycharmProjects/plotly-interactive/filenames_helper/collect_filenames.py\u001B[0m in \u001B[0;36mdf_from_workspace_set\u001B[0;34m(workspace, set_type, set_name, column_name)\u001B[0m\n\u001B[1;32m     74\u001B[0m         \u001B[0;32mraise\u001B[0m \u001B[0mValueError\u001B[0m\u001B[0;34m(\u001B[0m\u001B[0;34mf\"set_type must be one of pair, sample, participant, not {set_type}.\"\u001B[0m\u001B[0;34m)\u001B[0m\u001B[0;34m\u001B[0m\u001B[0;34m\u001B[0m\u001B[0m\n\u001B[1;32m     75\u001B[0m \u001B[0;34m\u001B[0m\u001B[0m\n\u001B[0;32m---> 76\u001B[0;31m     \u001B[0;32mreturn\u001B[0m \u001B[0mset_df\u001B[0m\u001B[0;34m[\u001B[0m\u001B[0mset_df\u001B[0m\u001B[0;34m[\u001B[0m\u001B[0mcolumn_name\u001B[0m\u001B[0;34m]\u001B[0m\u001B[0;34m.\u001B[0m\u001B[0mnotnull\u001B[0m\u001B[0;34m(\u001B[0m\u001B[0;34m)\u001B[0m\u001B[0;34m]\u001B[0m\u001B[0;34m\u001B[0m\u001B[0;34m\u001B[0m\u001B[0m\n\u001B[0m\u001B[1;32m     77\u001B[0m \u001B[0;34m\u001B[0m\u001B[0m\n\u001B[1;32m     78\u001B[0m \u001B[0;34m\u001B[0m\u001B[0m\n",
      "\u001B[0;32m~/PycharmProjects/plotly-interactive/venv/lib/python3.7/site-packages/pandas/core/frame.py\u001B[0m in \u001B[0;36m__getitem__\u001B[0;34m(self, key)\u001B[0m\n\u001B[1;32m   2900\u001B[0m             \u001B[0;32mif\u001B[0m \u001B[0mself\u001B[0m\u001B[0;34m.\u001B[0m\u001B[0mcolumns\u001B[0m\u001B[0;34m.\u001B[0m\u001B[0mnlevels\u001B[0m \u001B[0;34m>\u001B[0m \u001B[0;36m1\u001B[0m\u001B[0;34m:\u001B[0m\u001B[0;34m\u001B[0m\u001B[0;34m\u001B[0m\u001B[0m\n\u001B[1;32m   2901\u001B[0m                 \u001B[0;32mreturn\u001B[0m \u001B[0mself\u001B[0m\u001B[0;34m.\u001B[0m\u001B[0m_getitem_multilevel\u001B[0m\u001B[0;34m(\u001B[0m\u001B[0mkey\u001B[0m\u001B[0;34m)\u001B[0m\u001B[0;34m\u001B[0m\u001B[0;34m\u001B[0m\u001B[0m\n\u001B[0;32m-> 2902\u001B[0;31m             \u001B[0mindexer\u001B[0m \u001B[0;34m=\u001B[0m \u001B[0mself\u001B[0m\u001B[0;34m.\u001B[0m\u001B[0mcolumns\u001B[0m\u001B[0;34m.\u001B[0m\u001B[0mget_loc\u001B[0m\u001B[0;34m(\u001B[0m\u001B[0mkey\u001B[0m\u001B[0;34m)\u001B[0m\u001B[0;34m\u001B[0m\u001B[0;34m\u001B[0m\u001B[0m\n\u001B[0m\u001B[1;32m   2903\u001B[0m             \u001B[0;32mif\u001B[0m \u001B[0mis_integer\u001B[0m\u001B[0;34m(\u001B[0m\u001B[0mindexer\u001B[0m\u001B[0;34m)\u001B[0m\u001B[0;34m:\u001B[0m\u001B[0;34m\u001B[0m\u001B[0;34m\u001B[0m\u001B[0m\n\u001B[1;32m   2904\u001B[0m                 \u001B[0mindexer\u001B[0m \u001B[0;34m=\u001B[0m \u001B[0;34m[\u001B[0m\u001B[0mindexer\u001B[0m\u001B[0;34m]\u001B[0m\u001B[0;34m\u001B[0m\u001B[0;34m\u001B[0m\u001B[0m\n",
      "\u001B[0;32m~/PycharmProjects/plotly-interactive/venv/lib/python3.7/site-packages/pandas/core/indexes/base.py\u001B[0m in \u001B[0;36mget_loc\u001B[0;34m(self, key, method, tolerance)\u001B[0m\n\u001B[1;32m   2895\u001B[0m                 \u001B[0;32mreturn\u001B[0m \u001B[0mself\u001B[0m\u001B[0;34m.\u001B[0m\u001B[0m_engine\u001B[0m\u001B[0;34m.\u001B[0m\u001B[0mget_loc\u001B[0m\u001B[0;34m(\u001B[0m\u001B[0mcasted_key\u001B[0m\u001B[0;34m)\u001B[0m\u001B[0;34m\u001B[0m\u001B[0;34m\u001B[0m\u001B[0m\n\u001B[1;32m   2896\u001B[0m             \u001B[0;32mexcept\u001B[0m \u001B[0mKeyError\u001B[0m \u001B[0;32mas\u001B[0m \u001B[0merr\u001B[0m\u001B[0;34m:\u001B[0m\u001B[0;34m\u001B[0m\u001B[0;34m\u001B[0m\u001B[0m\n\u001B[0;32m-> 2897\u001B[0;31m                 \u001B[0;32mraise\u001B[0m \u001B[0mKeyError\u001B[0m\u001B[0;34m(\u001B[0m\u001B[0mkey\u001B[0m\u001B[0;34m)\u001B[0m \u001B[0;32mfrom\u001B[0m \u001B[0merr\u001B[0m\u001B[0;34m\u001B[0m\u001B[0;34m\u001B[0m\u001B[0m\n\u001B[0m\u001B[1;32m   2898\u001B[0m \u001B[0;34m\u001B[0m\u001B[0m\n\u001B[1;32m   2899\u001B[0m         \u001B[0;32mif\u001B[0m \u001B[0mtolerance\u001B[0m \u001B[0;32mis\u001B[0m \u001B[0;32mnot\u001B[0m \u001B[0;32mNone\u001B[0m\u001B[0;34m:\u001B[0m\u001B[0;34m\u001B[0m\u001B[0;34m\u001B[0m\u001B[0m\n",
      "\u001B[0;31mKeyError\u001B[0m: 'mutation_validated_validator_maf'"
     ]
    }
   ],
   "source": [
    "### From Terra\n",
    "maf_list = collect_filenames(workspace=workspace, set_type='pair',\n",
    "                             set_name='all_samples_except_MGH_484718',\n",
    "                             column_name='mutation_validator_validated_maf')"
   ]
  },
  {
   "cell_type": "code",
   "execution_count": null,
   "metadata": {
    "pycharm": {
     "name": "#%%\n"
    }
   },
   "outputs": [],
   "source": [
    "### Or From File\n",
    "# Can pull filenames from a text file\n",
    "# Can be useful to specify a mix of local, downloaded mafs and urls hosted in a bucket\n",
    "\n",
    "# maf_list = collect_filenames(filepath='/Users/me/my_documents/my_directory/my_file.txt')"
   ]
  },
  {
   "cell_type": "code",
   "execution_count": 6,
   "metadata": {
    "pycharm": {
     "name": "#%%\n"
    }
   },
   "outputs": [
    {
     "ename": "NameError",
     "evalue": "name 'maf_list' is not defined",
     "output_type": "error",
     "traceback": [
      "\u001B[0;31m---------------------------------------------------------------------------\u001B[0m",
      "\u001B[0;31mNameError\u001B[0m                                 Traceback (most recent call last)",
      "\u001B[0;32m<ipython-input-6-e1ab7465f87e>\u001B[0m in \u001B[0;36m<module>\u001B[0;34m\u001B[0m\n\u001B[1;32m      1\u001B[0m \u001B[0;31m# get basic static plot\u001B[0m\u001B[0;34m\u001B[0m\u001B[0;34m\u001B[0m\u001B[0;34m\u001B[0m\u001B[0m\n\u001B[0;32m----> 2\u001B[0;31m \u001B[0mfig\u001B[0m\u001B[0;34m,\u001B[0m \u001B[0msamples\u001B[0m\u001B[0;34m,\u001B[0m \u001B[0mgnomad_min\u001B[0m\u001B[0;34m,\u001B[0m \u001B[0mgnomad_max\u001B[0m\u001B[0;34m,\u001B[0m \u001B[0mcolumn_names\u001B[0m \u001B[0;34m=\u001B[0m \u001B[0mget_static_plot\u001B[0m\u001B[0;34m(\u001B[0m\u001B[0mmaf_list\u001B[0m\u001B[0;34m,\u001B[0m \u001B[0mworkspace\u001B[0m\u001B[0;34m)\u001B[0m\u001B[0;34m\u001B[0m\u001B[0;34m\u001B[0m\u001B[0m\n\u001B[0m\u001B[1;32m      3\u001B[0m \u001B[0;34m\u001B[0m\u001B[0m\n\u001B[1;32m      4\u001B[0m \u001B[0;31m# parameters\u001B[0m\u001B[0;34m\u001B[0m\u001B[0;34m\u001B[0m\u001B[0;34m\u001B[0m\u001B[0m\n\u001B[1;32m      5\u001B[0m \u001B[0mfilter_disc_num\u001B[0m \u001B[0;34m=\u001B[0m \u001B[0;36m20\u001B[0m\u001B[0;34m\u001B[0m\u001B[0;34m\u001B[0m\u001B[0m\n",
      "\u001B[0;31mNameError\u001B[0m: name 'maf_list' is not defined"
     ]
    }
   ],
   "source": [
    "# get basic static plot\n",
    "fig, samples, gnomad_min, gnomad_max, column_names = get_static_plot(maf_list, workspace)\n",
    "\n",
    "# parameters\n",
    "filter_disc_num = 20"
   ]
  },
  {
   "cell_type": "markdown",
   "metadata": {
    "pycharm": {
     "name": "#%% md\n"
    }
   },
   "source": [
    "# Add Widgets"
   ]
  },
  {
   "cell_type": "code",
   "execution_count": null,
   "metadata": {
    "pycharm": {
     "name": "#%%\n"
    }
   },
   "outputs": [],
   "source": [
    "gnomAD_slider = widgets.FloatSlider(\n",
    "    value=0,\n",
    "    min=0,\n",
    "    max=max(samples[column_names.get('gnomad_freq')]),\n",
    "    step=max(samples[column_names.get('gnomad_freq')]) / filter_disc_num,\n",
    "    disabled=False,\n",
    "    description='GnomAD Frequency Filter: ',\n",
    "    readout_format='.5f'\n",
    ")\n",
    "\n",
    "gnomAD_nan = widgets.Checkbox(\n",
    "    value=True,\n",
    "    description='Allow NaN gnomAD points',\n",
    "    disabled=False,\n",
    "    indent=False\n",
    ")\n",
    "\n",
    "all_mutations = samples[column_names.get('variant_class')].unique().tolist()\n",
    "mutation_select = widgets.SelectMultiple(\n",
    "    options=all_mutations,\n",
    "    value=all_mutations,\n",
    "    description='Mutation Types:  ',\n",
    "    disabled=False\n",
    ")\n",
    "\n",
    "ipython_fig = go.FigureWidget(fig)\n",
    "\n",
    "df_w_filter = samples.copy()\n",
    "\n",
    "def response(change):\n",
    "    filter_list = [m in mutation_select.value and\n",
    "                   ((g >= gnomAD_slider.value and not np.isnan(g))\n",
    "                   or (np.isnan(g) and gnomAD_nan.value))\n",
    "                   for m, g in zip(samples[column_names.get('variant_class')],\n",
    "                                   samples[column_names.get('gnomad_freq')])]\n",
    "    df_w_filter['filter'] = filter_list\n",
    "    updated_sum_data = df_w_filter.groupby(level=[0], sort=False).sum()['filter'].values.flatten()\n",
    "\n",
    "    temp_df = samples[filter_list]\n",
    "    y = temp_df[column_names.get('tumor_freq')]\n",
    "    x = temp_df['x_jitter']\n",
    "    t_count = temp_df['t_ref_count'].values + temp_df['t_alt_count'].values\n",
    "    with ipython_fig.batch_update():\n",
    "        ipython_fig.data[0].x = x\n",
    "        ipython_fig.data[0].y = y\n",
    "        ipython_fig.data[0].marker['color'] = temp_df[column_names.get('gnomad_freq')]\n",
    "        ipython_fig.data[0].marker['cmin'] = gnomad_min\n",
    "        ipython_fig.data[0].marker['cmax'] = gnomad_max\n",
    "        ipython_fig.data[0].customdata = np.stack((temp_df[column_names.get('hugo')].tolist(),\n",
    "                                                   temp_df['Protein_Change'].tolist(),\n",
    "                                                   t_count), axis=-1)\n",
    "        ipython_fig.data[1].z = updated_sum_data\n",
    "        for x_val, this_sum in enumerate(updated_sum_data):\n",
    "            ipython_fig['layout']['annotations'][x_val].update(text=str(this_sum))\n",
    "\n",
    "mutation_select.observe(response, names=\"value\")\n",
    "gnomAD_slider.observe(response, names=\"value\")\n",
    "gnomAD_nan.observe(response, names=\"value\")\n",
    "\n",
    "widgets.VBox([mutation_select, ipython_fig, gnomAD_slider, gnomAD_nan])"
   ]
  },
  {
   "cell_type": "code",
   "execution_count": null,
   "metadata": {
    "pycharm": {
     "name": "#%%\n"
    }
   },
   "outputs": [],
   "source": []
  }
 ],
 "metadata": {
  "kernelspec": {
   "display_name": "Python 3",
   "language": "python",
   "name": "python3"
  },
  "language_info": {
   "codemirror_mode": {
    "name": "ipython",
    "version": 3
   },
   "file_extension": ".py",
   "mimetype": "text/x-python",
   "name": "python",
   "nbconvert_exporter": "python",
   "pygments_lexer": "ipython3",
   "version": "3.7.8"
  }
 },
 "nbformat": 4,
 "nbformat_minor": 1
}